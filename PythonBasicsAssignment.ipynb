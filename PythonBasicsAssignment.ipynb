{
  "nbformat": 4,
  "nbformat_minor": 0,
  "metadata": {
    "colab": {
      "provenance": []
    },
    "kernelspec": {
      "name": "python3",
      "display_name": "Python 3"
    },
    "language_info": {
      "name": "python"
    }
  },
  "cells": [
    {
      "cell_type": "markdown",
      "source": [
        "# **Python Basics Assignment Questions**\n",
        "\n",
        "**Q(1) - What is Python, and why is it popular?**\n",
        "\n",
        "Ans:-\n",
        "Python is a high-level, interpreted, general-purpose programming language known for its simplicity and readability. It was created by Guido van Rossum in 1991, Python has a syntax which is close to English.  \n",
        "\n",
        "It is popular because -  \n",
        "\n",
        "1. Easy to Learn & English-like syntax  \n",
        "\n",
        "2. Versatile & General-Purpose  \n",
        "Python is used in:  \n",
        "- Web Development (Django, Flask)  \n",
        "- Data Science & Machine Learning (NumPy, Pandas, TensorFlow)  \n",
        "- Automation & Scripting  \n",
        "- Game Development (Pygame)  \n",
        "- Cybersecurity & Ethical Hacking  \n",
        "- Embedded Systems & IoT (MicroPython)  \n",
        "3. Huge Libraries & Frameworks  \n",
        "- Data Science: Pandas, NumPy, Matplotlib, SciPy  \n",
        "- Machine Learning: TensorFlow, PyTorch, Scikit-learn  \n",
        "- Web Development: Django, Flask, FastAPI  \n",
        "- Automation: Selenium, BeautifulSoup  \n",
        "4. Cross-Platform & Portable  \n",
        "- Runs on Windows, macOS, Linux without modification.  \n",
        "- Can be embedded in other languages (e.g., C/C++).  \n",
        "5. Strong Community & Support  \n",
        "- One of the largest programming communities (Stack Overflow, GitHub, Reddit).  \n",
        "- Extensive documentation and free learning resources.  \n",
        "6. High Demand in the Job Market  \n",
        "- Used by Google, NASA, Netflix, Facebook, Instagram, Spotify.  \n",
        "- Number 1 language for AI, Data Science, and Automation.  \n",
        "\n",
        "Thus, Python is popular because it’s easy to learn, powerful, and widely used across industries.\n",
        "\n",
        "**2. What is an interpreter in Python?**\n",
        "\n",
        "Ans:-\n",
        "An interpreter in Python is a program that executes Python code line by line, translating it into machine-readable instructions on the fly (without compiling the entire program first).\n",
        "\n",
        "**3. What are pre-defined keywords in Python?**\n",
        "\n",
        "Ans:-\n",
        "Python has 35 reserved keywords that have special meanings and cannot be used as variable names, function names, or identifiers.\n",
        "\n",
        "False, None, True, and, as, assert, async, await, break, class, continue, def, del, elif, else, except, finally, for, from, global, if, import, in, is, lambda, nonlocal, not, or, pass, raise, return, try, while, with, yield\n",
        "\n",
        "**4. Can keywrods be used as variable names?**\n",
        "\n",
        "Ans:-\n",
        "No keywords can not be used as variable names as these words have special meanings in Python.\n",
        "\n",
        "**5. What is mutability in Python?**\n",
        "\n",
        "Ans:-\n",
        "Mutability refers to whether an object's value can be changed after creation.\n",
        "Common mutable objects are:\n",
        "- list\n",
        "- dictionary\n",
        "- set\n",
        "- bytearray\n",
        "\n",
        "**6. Why are lists mutable, but tuples are immutable?**\n",
        "\n",
        "Ans:-\n",
        "The key difference between lists (mutable) and tuples (immutable) in Python is beacause they are designed as such for different use cases.\n",
        "\n",
        "**7. What is the difference between \"==\" and \"is\" operators in Python?**\n",
        "\n",
        "Ans:-\n",
        "The difference between \"==\" and \"is\" operators is that \"==\" is used for comparing data (number, string, list), while \"is\" is used for checking that two values are pointing to same object or not.\n",
        "\n",
        "**8. What are logical operators in Python?**\n",
        "\n",
        "Ans:-\n",
        "There are three logical operators in Python.\n",
        "- And\n",
        "- Or\n",
        "- Not\n",
        "\n",
        "In case of AND, the whole expression is True only when all the conditions joined using AND are True.\n",
        "\n",
        "In case of OR, the expression is evaluated as True when any one of the condition joined using OR is evaluated as True.\n",
        "\n",
        "The NOT inverts the boolean result, if the expression is True then NOT makes it False and if the expression is False, the NOT makes it True.\n",
        "\n",
        "**9. What is type casting in Python?**\n",
        "\n",
        "Ans:-\n",
        "Type casting (or type conversion) is the process of converting a variable from one data type to another. Python supports both implicit (automatic) and explicit (manual) type casting.\n",
        "\n",
        "- In case of implicit type casting, Python automatically converts smaller data types to larger ones to avoid data loss.\n",
        "- In case of explicit type casting, Programmer explicitly convert a variable using built-in functions: int(), float(), str(), bool(), list(), tuple(), set()\n",
        "\n",
        "**10. What is the difference between implicit and explicit type casting in Python?**\n",
        "\n",
        "Ans:-\n",
        "- In case of implicit type casting, Python automatically converts smaller data types to larger ones to avoid data loss.\n",
        "- In case of explicit type casting, Programmer explicitly convert a variable using built-in functions: int(), float(), str(), bool(), list(), tuple(), set()\n",
        "\n",
        "**11. What is the purpose of conditional statements in Python?**\n",
        "\n",
        "Ans:-\n",
        "By default, the program execution flow is sequential. Conditional statements are used to alter this sequential execution of the program.\n",
        "\n",
        "Conditional statements in Python control the flow of a program by executing specific blocks of code based on whether a condition evaluates to True or False. They allow programs to make decisions and respond dynamically to different inputs or based on the evaluated value of any condition.\n",
        "\n",
        "Purpose:\n",
        "\n",
        "- Decision Making: Execute code only if certain conditions are evaluated as True.\n",
        "- Branching: Create multiple execution paths (e.g., if, elif, else) to handle different situations.\n",
        "- Program Logic: Implement logic to handle different situation and cases or skipping some part of program.\n",
        "- Flexibility: Enable programs to adapt to varying conditions during runtime, making them more interactive.\n",
        "\n",
        "**12. How does the elif statement work?**\n",
        "\n",
        "Ans:-\n",
        "It stands for \"else if\" and allows us to test multiple conditions sequentially, providing alternative branches of execution. It makes handling multiple and mutually independent conditions easy.\n",
        "\n",
        "In Python, the elif statement is used within a conditional structure to check additional conditions if the preceding if or elif conditions evaluate to False.\n",
        "\n",
        "- Conditions are evaluated from top to bottom. The first True condition’s block runs, and others are skipped.\n",
        "- We can have zero or more elif statements. The else is also optional.\n",
        "- Only one block (from if, elif, or else) executes per evaluation of the structure.\n",
        "- The elif must be followed by a condition that evaluates to True or False.\n",
        "\n",
        "**13. What is the difference between for and while loop?**\n",
        "\n",
        "Ans:-\n",
        "In Python, both for and while loops are used to execute a block of code repeatedly, but they differ in their structure, use cases, and control mechanisms.\n",
        "- **For Loop:** Iterates over a sequence (e.g., list, tuple, string, or range) a fixed number of times, automatically handling the iteration variable.\n",
        "- **While Loop:** Repeatedly executes a block of code as long as a given condition is True, with manual control over the iteration variable.\n",
        "\n",
        "For loop is better to use when it is known that how many times the loops is going to execute, while loop is better when we do not have the idea that how many times the loop is going to execute when the program is running.\n",
        "\n",
        "**14. Describe a scenario where a while loop is more suitable than a for loop?**\n",
        "\n",
        "Ans:-\n",
        "A while loop is more suitable than a for loop when the number of iterations is unknown and depends on the condition that may change during execution.\n",
        "\n",
        "e.g.\n",
        "\n",
        "*User Input Validation*\n",
        "\n",
        "Suppose we have to write program that prompts a user to enter a positive integer within a range until they provide a valid input. The program cannot predict how many attempts the user will need to enter a correct value, so the loop must continue until the input meets the condition.\n",
        "\n",
        "Thus, while is better when -\n",
        "- Unknown Number of Iterations are to be executed\n",
        "- Condition-Driven, the loop will execute until the condition is made false by user\n",
        "- Dynamic Termination -> The loop handles invalid inputs (like strings or negative numbers) by prompting again, and the termination depends on user behavior, not a fixed count."
      ],
      "metadata": {
        "id": "G2bsvDzWrQDF"
      }
    },
    {
      "cell_type": "code",
      "source": [
        "# Q(1) - Write a Python program to print \"Hello, World!\"\n",
        "\n",
        "print(\"Hello, World!\")"
      ],
      "metadata": {
        "colab": {
          "base_uri": "https://localhost:8080/"
        },
        "id": "wyWAGL5UtYLh",
        "outputId": "d77f49a5-80fc-4585-b8e4-a9b558971f4b"
      },
      "execution_count": null,
      "outputs": [
        {
          "output_type": "stream",
          "name": "stdout",
          "text": [
            "Hello, World!\n"
          ]
        }
      ]
    },
    {
      "cell_type": "markdown",
      "source": [],
      "metadata": {
        "id": "sCK-WEPLDUpC"
      }
    },
    {
      "cell_type": "code",
      "source": [
        "# Q(2) - Write a Python program to display your name and age.\n",
        "\n",
        "name = \"Anoop Verma\"\n",
        "age = 59\n",
        "\n",
        "print(\"Name: \", name)\n",
        "print(\"Age: \", age)"
      ],
      "metadata": {
        "colab": {
          "base_uri": "https://localhost:8080/"
        },
        "id": "c3LpDd7Ot9wp",
        "outputId": "c5d6505d-a16f-4cdd-a603-d4ac4f8f16d1"
      },
      "execution_count": null,
      "outputs": [
        {
          "output_type": "stream",
          "name": "stdout",
          "text": [
            "Name:  Anoop Verma\n",
            "Age:  59\n"
          ]
        }
      ]
    },
    {
      "cell_type": "code",
      "source": [
        "# Q(3) - Write a code to print all the pre-defined keywords in Python using the\n",
        "# keyword library.\n",
        "\n",
        "import keyword\n",
        "\n",
        "klist = keyword.kwlist\n",
        "\n",
        "print(\"Python Keywords:\\n\")\n",
        "for k in klist:\n",
        "    print(k)"
      ],
      "metadata": {
        "colab": {
          "base_uri": "https://localhost:8080/"
        },
        "id": "YST_as1iuSUC",
        "outputId": "28be6dd3-9f36-45f9-af37-0b66bb17982e"
      },
      "execution_count": null,
      "outputs": [
        {
          "output_type": "stream",
          "name": "stdout",
          "text": [
            "Python Keywords:\n",
            "\n",
            "False\n",
            "None\n",
            "True\n",
            "and\n",
            "as\n",
            "assert\n",
            "async\n",
            "await\n",
            "break\n",
            "class\n",
            "continue\n",
            "def\n",
            "del\n",
            "elif\n",
            "else\n",
            "except\n",
            "finally\n",
            "for\n",
            "from\n",
            "global\n",
            "if\n",
            "import\n",
            "in\n",
            "is\n",
            "lambda\n",
            "nonlocal\n",
            "not\n",
            "or\n",
            "pass\n",
            "raise\n",
            "return\n",
            "try\n",
            "while\n",
            "with\n",
            "yield\n"
          ]
        }
      ]
    },
    {
      "cell_type": "code",
      "source": [
        "# Q(4) - Write a program that checks if a given word is a Python keyword.\n",
        "\n",
        "import keyword\n",
        "\n",
        "klist = keyword.kwlist\n",
        "\n",
        "word = input(\"Enter a word: \")\n",
        "if word in klist:\n",
        "  print(\"Given word is a Python keyword\")\n",
        "else:\n",
        "  print(\"Given word is not a Python keyword\")\n"
      ],
      "metadata": {
        "colab": {
          "base_uri": "https://localhost:8080/"
        },
        "id": "DJc7cz_JvSLt",
        "outputId": "ce39a517-fbb6-4321-f874-d8dc64561ee9"
      },
      "execution_count": null,
      "outputs": [
        {
          "output_type": "stream",
          "name": "stdout",
          "text": [
            "Enter a word: anoop\n",
            "Given word is not a Python keyword\n"
          ]
        }
      ]
    },
    {
      "cell_type": "code",
      "source": [
        "# Q(5) - Create a list and tuple in Python, and demonstrate how attempting to\n",
        "# change an element works differently for each.\n",
        "\n",
        "List1 = [1,2,3,4,5,6] # Creating list\n",
        "\n",
        "Tup1 = (1,2,3,4,5,6)  # Creating tuple\n",
        "\n",
        "# List is mutable in Python, so the elemnt can be changed.\n",
        "print(\"Original list\")\n",
        "print(List1)\n",
        "List1[2] = 100  # Third element is changed from 3 to 100\n",
        "print(\"List with 3rd element changed\")\n",
        "print(List1)\n",
        "\n",
        "# Tuple is immutable in Python, so its element can not be changed.\n",
        "# Trying to change the tuple element gives an error.\n",
        "print(\"Original tuple\")\n",
        "print(Tup1)\n",
        "Tup1[2] = 100  # Third element is being changed from 3 to 100, gives ERROR\n"
      ],
      "metadata": {
        "colab": {
          "base_uri": "https://localhost:8080/",
          "height": 280
        },
        "id": "uOrZCtzgwIEO",
        "outputId": "3dbc36aa-ca6a-4007-d541-7f15ccadaeb8"
      },
      "execution_count": null,
      "outputs": [
        {
          "output_type": "stream",
          "name": "stdout",
          "text": [
            "Original list\n",
            "[1, 2, 3, 4, 5, 6]\n",
            "List with 3rd element changed\n",
            "[1, 2, 100, 4, 5, 6]\n",
            "Original tuple\n",
            "(1, 2, 3, 4, 5, 6)\n"
          ]
        },
        {
          "output_type": "error",
          "ename": "TypeError",
          "evalue": "'tuple' object does not support item assignment",
          "traceback": [
            "\u001b[0;31m---------------------------------------------------------------------------\u001b[0m",
            "\u001b[0;31mTypeError\u001b[0m                                 Traceback (most recent call last)",
            "\u001b[0;32m<ipython-input-13-dd0a6cfe61cf>\u001b[0m in \u001b[0;36m<cell line: 0>\u001b[0;34m()\u001b[0m\n\u001b[1;32m     17\u001b[0m \u001b[0mprint\u001b[0m\u001b[0;34m(\u001b[0m\u001b[0;34m\"Original tuple\"\u001b[0m\u001b[0;34m)\u001b[0m\u001b[0;34m\u001b[0m\u001b[0;34m\u001b[0m\u001b[0m\n\u001b[1;32m     18\u001b[0m \u001b[0mprint\u001b[0m\u001b[0;34m(\u001b[0m\u001b[0mTup1\u001b[0m\u001b[0;34m)\u001b[0m\u001b[0;34m\u001b[0m\u001b[0;34m\u001b[0m\u001b[0m\n\u001b[0;32m---> 19\u001b[0;31m \u001b[0mTup1\u001b[0m\u001b[0;34m[\u001b[0m\u001b[0;36m2\u001b[0m\u001b[0;34m]\u001b[0m \u001b[0;34m=\u001b[0m \u001b[0;36m100\u001b[0m  \u001b[0;31m# Third element is being changed from 3 to 100, gives ERROR\u001b[0m\u001b[0;34m\u001b[0m\u001b[0;34m\u001b[0m\u001b[0m\n\u001b[0m",
            "\u001b[0;31mTypeError\u001b[0m: 'tuple' object does not support item assignment"
          ]
        }
      ]
    },
    {
      "cell_type": "code",
      "source": [
        "# Q(6) - Write a function to demonstrate the behavior of mutable and immutable arguments.\n",
        "\n",
        "def modify_arguments(immutable_arg, mutable_arg):\n",
        "    # Attempt to modify immutable argument (integer)\n",
        "    print(f\"Original immutable_arg (inside function): {immutable_arg}\")\n",
        "    immutable_arg += 10  # Creates a new integer object\n",
        "    print(f\"Modified immutable_arg (inside function): {immutable_arg}\")\n",
        "\n",
        "    # Modify mutable argument (list)\n",
        "    print(f\"Original mutable_arg (inside function): {mutable_arg}\")\n",
        "    mutable_arg.append(100)  # Modifies the list in place\n",
        "    print(f\"Modified mutable_arg (inside function): {mutable_arg}\")\n",
        "\n",
        "# Test the function with an Integer (Immutable) and a List (Mutable)\n",
        "# The immutable integer does not change, istead the function creates a new\n",
        "# integer locally, while list is modified locally.\n",
        "\n",
        "modify_arguments(5, [1,2,3])"
      ],
      "metadata": {
        "colab": {
          "base_uri": "https://localhost:8080/"
        },
        "id": "J-JIWPGVxelK",
        "outputId": "3eaf8170-d56d-4904-a7a3-c25eac723de1"
      },
      "execution_count": null,
      "outputs": [
        {
          "output_type": "stream",
          "name": "stdout",
          "text": [
            "Original immutable_arg (inside function): 5\n",
            "Modified immutable_arg (inside function): 15\n",
            "Original mutable_arg (inside function): [1, 2, 3]\n",
            "Modified mutable_arg (inside function): [1, 2, 3, 100]\n"
          ]
        }
      ]
    },
    {
      "cell_type": "code",
      "source": [
        "# Q(7) -  Write a program that performs basic arithmetic operations on two user-input numbers.\n",
        "\n",
        "# Get input from user\n",
        "num1 = float(input(\"Enter first number: \"))\n",
        "num2 = float(input(\"Enter second number: \"))\n",
        "\n",
        "# Perform arithmetic operations\n",
        "add = num1 + num2\n",
        "sub = num1 - num2\n",
        "mul = num1 * num2\n",
        "\n",
        "# Check for division by zero\n",
        "if num2 == 0:\n",
        "  div = \"Cannot divide by zero\"\n",
        "else:\n",
        "  div = num1 / num2\n",
        "\n",
        "# Display results\n",
        "print(\"\\nResults:\")\n",
        "print(f\"Addition: {num1} + {num2} = {add}\")\n",
        "print(f\"Subtraction: {num1} - {num2} = {sub}\")\n",
        "print(f\"Multiplication: {num1} * {num2} = {mul}\")\n",
        "print(f\"Division: {num1} / {num2} = {div}\")\n"
      ],
      "metadata": {
        "colab": {
          "base_uri": "https://localhost:8080/"
        },
        "id": "dTTJKvZa0BST",
        "outputId": "95a3af04-fc38-4ad6-abd8-cea288a3877a"
      },
      "execution_count": null,
      "outputs": [
        {
          "output_type": "stream",
          "name": "stdout",
          "text": [
            "Enter first number: 5\n",
            "Enter second number: 3\n",
            "\n",
            "Results:\n",
            "Addition: 5.0 + 3.0 = 8.0\n",
            "Subtraction: 5.0 - 3.0 = 2.0\n",
            "Multiplication: 5.0 * 3.0 = 15.0\n",
            "Division: 5.0 / 3.0 = 1.6666666666666667\n"
          ]
        }
      ]
    },
    {
      "cell_type": "code",
      "source": [
        "# Q(8) -  Write a program to demonstrate the use of logical operators.\n",
        "\n",
        "# Logical operators are AND, OR and NOT\n",
        "\n",
        "a = 10\n",
        "b = 20\n",
        "c = 10\n",
        "\n",
        "# Logical AND (and) - True if both conditions are True\n",
        "print(f\"a == c and a < b: {a == c and a < b}\")\n",
        "\n",
        "# Logical OR (or) - True if at least one condition is True\n",
        "print(f\"a == b or a == c: {a == b or a == c}\")\n",
        "\n",
        "# Logical NOT (not) - Reverses the boolean value\n",
        "print(f\"not (a == b): {not (a == b)}\")\n"
      ],
      "metadata": {
        "colab": {
          "base_uri": "https://localhost:8080/"
        },
        "id": "_3h41KNO1J-Z",
        "outputId": "ac0c10e2-5e6e-4817-ba1f-bd39c2782d05"
      },
      "execution_count": null,
      "outputs": [
        {
          "output_type": "stream",
          "name": "stdout",
          "text": [
            "a == c and a < b: True\n",
            "a == b or a == c: True\n",
            "not (a == b): True\n"
          ]
        }
      ]
    },
    {
      "cell_type": "code",
      "source": [
        "# Q(9) - Write a Python program to convert user input from string to integer,\n",
        "# float, and boolean types.\n",
        "\n",
        "# Get user input as a string\n",
        "x = input(\"Enter a number: \")\n",
        "y = input(\"Enter 'True' or 'False' for boolean: \")\n",
        "\n",
        "int_x = int(x)\n",
        "print(f\"String '{x}' converted to integer: {int_x}\")\n",
        "\n",
        "float_x = float(x)\n",
        "print(f\"String '{x}' converted to float: {float_x}\")\n",
        "\n",
        "boolean_y = y.lower() == 'true'\n",
        "print(f\"String '{y}' converted to boolean: {boolean_y}\")\n"
      ],
      "metadata": {
        "colab": {
          "base_uri": "https://localhost:8080/"
        },
        "id": "t69b3ci12L2N",
        "outputId": "90ed0986-5976-469e-8991-ffd9db830228"
      },
      "execution_count": null,
      "outputs": [
        {
          "output_type": "stream",
          "name": "stdout",
          "text": [
            "Enter a number: 4\n",
            "Enter 'True' or 'False' for boolean: true\n",
            "String '4' converted to integer: 4\n",
            "String '4' converted to float: 4.0\n",
            "String 'true' converted to boolean: True\n"
          ]
        }
      ]
    },
    {
      "cell_type": "code",
      "source": [
        "# Q(10) -  Write code to demonstrate type casting with list elements.\n",
        "\n",
        "##################################################################\n",
        "# THIS PROGRAM GAVE ME TROUBLE< AND I TOOK HELP OF AI TO GET THE ANSWER,\n",
        "# I AM NOT VERY COMFORTABLE WITH \"TRY\", HOPE TO GET IT IN A BETTER WAY LATER.\n",
        "##################################################################\n",
        "\n",
        "\n",
        "# Sample list with mixed string elements\n",
        "mixed_list = [\"123\", \"45.67\", \"True\", \"89\", \"12.34\", \"False\"]\n",
        "\n",
        "# Initialize lists to store converted values\n",
        "int_list = []\n",
        "float_list = []\n",
        "bool_list = []\n",
        "\n",
        "# Convert string elements to integer, float, and boolean\n",
        "for item in mixed_list:\n",
        "    # Try converting to integer\n",
        "    try:\n",
        "        int_value = int(item)\n",
        "        int_list.append(int_value)\n",
        "    except ValueError:\n",
        "        int_list.append(None)  # Append None if conversion fails\n",
        "\n",
        "    # Try converting to float\n",
        "    try:\n",
        "        float_value = float(item)\n",
        "        float_list.append(float_value)\n",
        "    except ValueError:\n",
        "        float_list.append(None)  # Append None if conversion fails\n",
        "\n",
        "    # Convert to boolean (True if string is 'True', False otherwise)\n",
        "    bool_value = item.lower() == 'true'\n",
        "    bool_list.append(bool_value)\n",
        "\n",
        "# Print original and converted lists\n",
        "print(\"Original list:\", mixed_list)\n",
        "print(\"Converted to integers:\", int_list)\n",
        "print(\"Converted to floats:\", float_list)\n",
        "print(\"Converted to booleans:\", bool_list)\n",
        "\n",
        "# Demonstrate specific type casting examples\n",
        "print(\"\\nSpecific type casting examples:\")\n",
        "print(f\"String '{mixed_list[0]}' to int: {int(mixed_list[0])}\")\n",
        "print(f\"String '{mixed_list[1]}' to float: {float(mixed_list[1])}\")\n",
        "print(f\"String '{mixed_list[2]}' to bool: {mixed_list[2].lower() == 'true'}\")\n"
      ],
      "metadata": {
        "colab": {
          "base_uri": "https://localhost:8080/"
        },
        "id": "NW5Rd7ZQ3rwE",
        "outputId": "32fcf33b-3675-4bec-b971-2422211b31d0"
      },
      "execution_count": null,
      "outputs": [
        {
          "output_type": "stream",
          "name": "stdout",
          "text": [
            "Original list: ['123', '45.67', 'True', '89', '12.34', 'False']\n",
            "Converted to integers: [123, None, None, 89, None, None]\n",
            "Converted to floats: [123.0, 45.67, None, 89.0, 12.34, None]\n",
            "Converted to booleans: [False, False, True, False, False, False]\n",
            "\n",
            "Specific type casting examples:\n",
            "String '123' to int: 123\n",
            "String '45.67' to float: 45.67\n",
            "String 'True' to bool: True\n"
          ]
        }
      ]
    },
    {
      "cell_type": "code",
      "source": [
        "# Q(11) -  Write a program that checks if a number is positive, negative, or zero.\n",
        "\n",
        "num = int(input(\"Enter a number: \"))\n",
        "\n",
        "if num > 0:\n",
        "  print(f\"{num} is a positive number.\")\n",
        "elif num < 0:\n",
        "  print(f\"{num} is a negative number.\")\n",
        "else:\n",
        "  print(\"The number is zero.\")"
      ],
      "metadata": {
        "colab": {
          "base_uri": "https://localhost:8080/"
        },
        "id": "jDbehjqo6ohK",
        "outputId": "5c913f1e-8c7e-43b2-847b-6504ac14829a"
      },
      "execution_count": null,
      "outputs": [
        {
          "output_type": "stream",
          "name": "stdout",
          "text": [
            "Enter a number: 0\n",
            "The number is zero.\n"
          ]
        }
      ]
    },
    {
      "cell_type": "code",
      "source": [
        "# Q(12) - Write a for loop to print numbers from 1 to 10.\n",
        "\n",
        "print(\"Numbers from 1 to 10:\")\n",
        "for num in range(1, 11):\n",
        "    print(num, end=' ')"
      ],
      "metadata": {
        "colab": {
          "base_uri": "https://localhost:8080/"
        },
        "id": "MXSgMr-f7Nq5",
        "outputId": "b30ccef5-9620-4c45-fbdb-d615944a9949"
      },
      "execution_count": null,
      "outputs": [
        {
          "output_type": "stream",
          "name": "stdout",
          "text": [
            "Numbers from 1 to 10:\n",
            "1 2 3 4 5 6 7 8 9 10 "
          ]
        }
      ]
    },
    {
      "cell_type": "code",
      "source": [
        "# Q(13) - Write a Python program to find the sum of all even numbers between 1 and 50.\n",
        "\n",
        "even_sum = 0\n",
        "for num in range(1, 51):\n",
        "    if num % 2 == 0:  # Check if number is even\n",
        "        even_sum = even_sum + num\n",
        "print(\"Sum of even numbers (1-50):\", even_sum)"
      ],
      "metadata": {
        "colab": {
          "base_uri": "https://localhost:8080/"
        },
        "id": "Em2vBZWB7kek",
        "outputId": "4cca2136-5cc5-404b-e198-fb2c95fd4404"
      },
      "execution_count": null,
      "outputs": [
        {
          "output_type": "stream",
          "name": "stdout",
          "text": [
            "Sum of even numbers (1-50): 650\n"
          ]
        }
      ]
    },
    {
      "cell_type": "code",
      "source": [
        "# Q(14) -  Write a program to reverse a string using a while loop.\n",
        "\n",
        "str = input(\"Enter a string to reverse: \")\n",
        "\n",
        "r_str = \"\"\n",
        "str_len = len(str) - 1  # Start from the last character\n",
        "\n",
        "while str_len >= 0:\n",
        "  r_str += str[str_len]  # Append characters from end to start\n",
        "  str_len -= 1  # Move to the previous character\n",
        "\n",
        "print(f\"Original string: {str}\")\n",
        "print(f\"Reversed string: {r_str}\")"
      ],
      "metadata": {
        "colab": {
          "base_uri": "https://localhost:8080/"
        },
        "id": "nbzK8EUD9EGX",
        "outputId": "85bd550c-f3a8-451c-9e75-d3937db4b3fa"
      },
      "execution_count": null,
      "outputs": [
        {
          "output_type": "stream",
          "name": "stdout",
          "text": [
            "Enter a string to reverse: Python Programming\n",
            "Original string: Python Programming\n",
            "Reversed string: gnimmargorP nohtyP\n"
          ]
        }
      ]
    },
    {
      "cell_type": "code",
      "source": [
        "# Q(15) - Write a Python program to calculate the factorial of a number provided\n",
        "# by the user using a while loop\n",
        "\n",
        "num = int(input(\"Enter a positive integer: \"))\n",
        "\n",
        "fact = 1\n",
        "i = 1\n",
        "\n",
        "# Calculate factorial using while loop\n",
        "while i <= num:\n",
        "    fact *= i\n",
        "    i += 1\n",
        "\n",
        "# Display the result\n",
        "print(f\"The factorial of {num} is {fact}\")"
      ],
      "metadata": {
        "colab": {
          "base_uri": "https://localhost:8080/"
        },
        "id": "-1SNM6fMALnd",
        "outputId": "61693f50-1a43-4c45-81b7-fb20d26cb689"
      },
      "execution_count": null,
      "outputs": [
        {
          "output_type": "stream",
          "name": "stdout",
          "text": [
            "Enter a positive integer: 8\n",
            "The factorial of 8 is 40320\n"
          ]
        }
      ]
    }
  ]
}
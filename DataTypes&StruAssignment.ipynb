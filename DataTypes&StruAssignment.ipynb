{
  "nbformat": 4,
  "nbformat_minor": 0,
  "metadata": {
    "colab": {
      "provenance": []
    },
    "kernelspec": {
      "name": "python3",
      "display_name": "Python 3"
    },
    "language_info": {
      "name": "python"
    }
  },
  "cells": [
    {
      "cell_type": "markdown",
      "source": [
        "# Data Types and Structures Assignment\n",
        "## Anoop Verma (anoopmuz@gmail.com)\n",
        "## Batch - Data Sc. with Gen AI (May 2025)\n",
        "\n",
        "Q (1)  What are data structures, and why are they important?\n",
        "\n",
        "**Ans:-**\n",
        "Data structures are specialized formats for organizing, storing, and managing data in a computer so that it can be accessed and modified efficiently. They define the relationship between data elements and the operations that can be performed on them.\n",
        "\n",
        "**Common Types of Data Structures**\n",
        "\n",
        "- Integers (int)\n",
        "\n",
        "- Floating-point numbers (float)\n",
        "\n",
        "- Characters (char)/ Strings\n",
        "\n",
        "- Booleans (bool)\n",
        "\n",
        "- Arrays\n",
        "\n",
        "- Linked Lists\n",
        "\n",
        "- Stacks (LIFO)\n",
        "\n",
        "- Queues (FIFO)\n",
        "\n",
        "- Trees (e.g., Binary Trees, Heaps)\n",
        "\n",
        "- Graphs\n",
        "\n",
        "- Hash-based: Fast key-value lookups.\n",
        "\n",
        "- Hash Tables (Dictionaries in Python)\n",
        "\n",
        "- Sets: Unordered collections of unique elements.\n",
        "\n",
        "**Importantance of Data Structures**\n",
        "- Efficiency:\n",
        "- Memory Management\n",
        "- Real-World Problem Solving\n",
        "- Databases use B-trees for indexing.\n",
        "- Networking relies on queues for packet scheduling.\n",
        "- AI/ML uses graphs for neural networks and decision trees.\n",
        "- Code Readability & Maintainability\n",
        "- Well-chosen data structures make code more logical and easier to debug.\n",
        "\n",
        "Q (2)  Explain the difference between mutable and immutable data types with examples?\n",
        "\n",
        "**Ans:-**\n",
        "\n",
        "**Mutable**\n",
        "\n",
        "- Can be modified after creation\n",
        "- Same object can change\n",
        "- e.g. List, Dictionary, Set\n",
        "\n",
        "**Immutable**\n",
        "\n",
        "- Cannot be modified after creation\n",
        "- A new object is created after modification\n",
        "- e.g. Integer, Strings, Tuple, Frozensets\n",
        "\n",
        "Mutable objects save memory, but immutable objects are faster to access.\n",
        "\n",
        "Mutable objects are paased by reference to a fumction, while immutable objects are passed by value to a function.\n",
        "\n",
        "Q (3) What are the main differences between lists and tuples in Python?\n",
        "\n",
        "**Ans:-**\n",
        "- List is mutable while Tuple is iimutable.\n",
        "- List is created using [ ], while Tuple is created using ( ).\n",
        "- List runs slower, while Tuple runs fatser.\n",
        "- List consumes more memory, while Tuple is more memory-efficient.\n",
        "- List has more built-in methodsm while Tuple has less methods.\n",
        "\n",
        "Q (4) Describe how dictionaries store data.\n",
        "\n",
        "**Ans:-** Dictionaries (dict) in Python are hash tables that store data as key-value pairs.\n",
        "- Keys must be immutable (e.g., int, str, tuple).\n",
        "- Values can be any type (mutable or immutable).\n",
        "\n",
        "Q (5) Why might you use a set instead of a list in Python?\n",
        "\n",
        "**Ans:-** Sets (set) and lists (list) serve different purposes in Python.\n",
        "\n",
        "- When no duplicates are needed, a set is used, as it automatically ermoves the duplicates.\n",
        "- Mathematical set operations like union, intersection, join, differences are available with sets, while list requires manual loop to be written for these kind of operations.\n",
        "\n",
        "Q (6) What is a string in Python, and how is it different from a list?\n",
        "\n",
        "**Ans:-** In Python, a string is a sequence of characters enclosed in single (' '), double (\" \"), or triple (''' ''' or \"\"\" \"\"\") quotes. Strings are immutable, meaning their contents cannot be changed after creation.\n",
        "\n",
        "- List is mutable and is created using square brackets [ ], string is immutable.\n",
        "- List can hold any type of data, while string can hold only character type data.\n",
        "- Strings have string-specific funtions, like split(), strip() etc., while lists have list-specific functions, like append(), pop() etc.\n",
        "- Strings are used for text manupulation while lists are used to store different types of data.\n",
        "\n",
        "Q (7) How do tuples ensure data integrity in Python?\n",
        "\n",
        "**Ans:-** Tuples ensure data integrity by being immutable, meaning once created, their elements cannot be modified, added, or removed. This immutability provides safety to data where data should remain constant.\n",
        "\n",
        "- Prevents accidental modifications\n",
        "- Used as dictionary keys\n",
        "- Helps in returning multiple values from a function\n",
        "- Tuples are faster than lists, because it is static in nature\n",
        "\n",
        "Q (8) What is a hash table, and how does it relate to dictionaries in Python?\n",
        "\n",
        "**Ans:-** A hash table (or hash map) is a data structure that stores key-value pairs by using a hash function to compute an index (hash) where the value should be placed.\n",
        "\n",
        "It allows for better time complexity for addition, deletion and modification, and is able to handle situations where two keys hash to the ame index.\n",
        "\n",
        "Pyhton dictionaries are built using hash-tables. Dictionaries have fast access to its data due to hash (index) and the uniqueness of the keys.\n",
        "\n",
        "Q (9) Can lists contain different data types in Python?\n",
        "\n",
        "**Ans:-** Yes, Python lists can contain different data types.\n",
        "\n",
        "Q (10) Explain why strings are immutable in Python.\n",
        "\n",
        "**Ans:-** Python strings are immutable by its design. Due to its immutable nature, strings have many advantages like,\n",
        "- Security & Data integrity\n",
        "- Immutable strings can be used as keys in dictionaries\n",
        "- Memory effeciency\n",
        "- Thread safety\n",
        "- String operations return new strings, instead of manipulating the original\n",
        "- Immutability ensures functions cannot unexpectedly modify string arguments\n",
        "\n",
        "Q (11) What advantages do dictionaries offer over lists for certain tasks?\n",
        "\n",
        "**Ans:-**\n",
        "Dictionaries (dict) and lists (list) serve different purposes, but dictionaries are more suitable in some specific situations due to their hash table-based implementation, like\n",
        "- Fast search using keys\n",
        "- No duplicate keys\n",
        "- Efficient membership testing\n",
        "- Data stored in a better way\n",
        "- Memory efficiency\n",
        "\n",
        "List is more useful in situations where the data is to be manipulated using sequential methods, ordering of data is important.\n",
        "\n",
        "Q (12) Describe a scenario where using a tuple would be preferable over a list.\n",
        "\n",
        "**Ans:-** Tuples (tuple) and lists (list) are both sequence types in Python, but tuples have unique advantages in certain scenarios due to their immutability, memory efficiency, and hashability.\n",
        "\n",
        "The following are the situations where tuples are more useful:\n",
        "- Immutable Data (Safety & Integrity)\n",
        "- Hashability (Keys in Dictionaries or Elements in Sets)\n",
        "- Memory Efficiency & Performance (Tuples are smaller and faster to create than lists because they’re stored more compactly)\n",
        "- Function Arguments & Return Values (Tuples are often used to return multiple values from functions or as fixed-format arguments)\n",
        "- Thread Safety (Since tuples are immutable, they’re inherently thread-safe )\n",
        "\n",
        "Q (13) How do sets handle duplicate values in Python?\n",
        "\n",
        "**Ans:-**  In Python, a set is an unordered collection of unique elements. When we add duplicate values to a set, they are automatically removed because sets are designed to enforce uniqueness.\n",
        "\n",
        "Q (14) How does the “in” keyword work differently for lists and dictionaries.\n",
        "\n",
        "**Ans:-** The \"in\" keyword in Python checks for membership, but its behavior differs significantly between lists and dictionaries due to their underlying data structures.\n",
        "\n",
        "**in with Lists (list)**\n",
        "- Checks for the presence of a value (not a key).\n",
        "- Time Complexity: O(n) (linear search) - slower for large lists because it is sequential in nature.\n",
        "\n",
        "**in with Dictionaries (dict)**\n",
        "- Checks for the presence of a key (not a value).\n",
        "- Time Complexity: O(1) (constant-time lookup) - fast due to hashing.\n",
        "\n",
        "Q (15) Can you modify the elements of a tuple? Explain why or why not.\n",
        "\n",
        "**Ans:-** No, tuples are immutable—you cannot modify their elements after creation.\n",
        "\n",
        "If we try to change a value in Tuple, it gives a \"TypeError\".\n",
        "\n",
        "Q (16) What is a nested dictionary, and give an example of its use case?\n",
        "\n",
        "**Ans:-** A nested dictionary is a dictionary that contains other dictionaries as values. This allows us to store hierarchical or structured data in a key-value format, where values themselves can be dictionaries (or even lists, tuples, etc.).\n",
        "\n",
        "Example where it can be used:\n",
        "- Representing complex records (e.g., e-commerce products with categories).\n",
        "- Configuration Files (Multi-level settings (e.g., app configurations with sections).\n",
        "- School/University Data (Organizing student information with nested structures.)\n",
        "\n",
        "Q (17) Describe the time complexity of accessing elements in a dictionary.\n",
        "\n",
        "**Ans:-** In Python, dictionaries (dict) are implemented using hash tables, which provide highly efficient element access.\n",
        "\n",
        "**Time complexity for common operations are as follows:**\n",
        "- Accessing a Value by Key - Average Case: O(1) and Worst Case: O(n)\n",
        "- Checking if a Key Exists (in Operator) - Average Case: O(1) and Worst Case: O(n)\n",
        "- Accessing Keys, Values, or Items - Iteration is O(n)\n",
        "\n",
        "Q (18) In what situations are lists preferred over dictionaries?\n",
        "\n",
        "**Ans:-** While dictionaries (dict) are used for fast key-based searches, lists (list) are used in scenarios requiring ordered, index-based, or sequential data operations.\n",
        "\n",
        "Q (19) Why are dictionaries considered unordered, and how does that affect data retrieval.\n",
        "\n",
        "**Ans:-** Dictionaries (dict) were officially unordered, meaning:\n",
        "- Key-value pairs could appear in any order when iterating or printing.\n",
        "- The order was not guaranteed to match insertion order due to hash table implementation.\n",
        "\n",
        "It affects the data retrieval in following ways:-\n",
        "- Iteration Order Was Unpredictable\n",
        "- Inconsistent dict.keys(), dict.values(), dict.items()\n",
        "- Reproducibility Issues\n",
        "\n",
        "Q (20) Explain the difference between a list and a dictionary in terms of data retrieval.\n",
        "\n",
        "**Ans:-**\n",
        "The primary differences between lists and dictionaries in Python in terms of data retrieval are:\n",
        "- How data is accessed (index vs. key).\n",
        "- Speed of retrieval (time complexity).\n",
        "- Use cases (ordered sequences vs. key-value lookups).\n"
      ],
      "metadata": {
        "id": "VHjKFqylbTm3"
      }
    },
    {
      "cell_type": "code",
      "source": [
        "# (1) Write a code to create a string with your name and print it.\n",
        "\n",
        "name = \"Anoop Verma\"\n",
        "print(name)"
      ],
      "metadata": {
        "colab": {
          "base_uri": "https://localhost:8080/"
        },
        "id": "ItsK6DMidc90",
        "outputId": "e9726a34-135c-4923-e75a-241ff96dbf19"
      },
      "execution_count": null,
      "outputs": [
        {
          "output_type": "stream",
          "name": "stdout",
          "text": [
            "Anoop Verma\n"
          ]
        }
      ]
    },
    {
      "cell_type": "code",
      "source": [
        "# (2) Write a code to find the length of the string \"Hello World\".\n",
        "\n",
        "str = \"Hello World\"\n",
        "length = len(str)\n",
        "print(\"The length of the string is:\", length)\n"
      ],
      "metadata": {
        "colab": {
          "base_uri": "https://localhost:8080/"
        },
        "id": "dDFngTj9eBKt",
        "outputId": "a35e18cf-af1b-4fa7-e23f-cf9577b097bc"
      },
      "execution_count": null,
      "outputs": [
        {
          "output_type": "stream",
          "name": "stdout",
          "text": [
            "The length of the string is: 11\n"
          ]
        }
      ]
    },
    {
      "cell_type": "code",
      "source": [
        "# (3) Write a code to slice the first 3 characters from the string \"Python\n",
        "# Programming\".\n",
        "\n",
        "str = \"Python Programming\"\n",
        "first_three_char = str[:3]  # Slice from start (index 0) up to (but not including) index 3\n",
        "print(\"First 3 characters:\", first_three_char)"
      ],
      "metadata": {
        "colab": {
          "base_uri": "https://localhost:8080/"
        },
        "id": "XWB9JCHceRFX",
        "outputId": "4d74d773-8062-430e-bc4e-f76afad96200"
      },
      "execution_count": null,
      "outputs": [
        {
          "output_type": "stream",
          "name": "stdout",
          "text": [
            "First 3 characters: Pyt\n"
          ]
        }
      ]
    },
    {
      "cell_type": "code",
      "source": [
        "# (4) Write a code to convert the string \"hello\" to uppercase.\n",
        "\n",
        "str = \"hello\"\n",
        "ucase_str = str.upper()\n",
        "print(ucase_str)"
      ],
      "metadata": {
        "colab": {
          "base_uri": "https://localhost:8080/"
        },
        "id": "oBapR23neoVJ",
        "outputId": "f4d5fb59-bdd5-4030-fd8a-5dc3b7898470"
      },
      "execution_count": null,
      "outputs": [
        {
          "output_type": "stream",
          "name": "stdout",
          "text": [
            "HELLO\n"
          ]
        }
      ]
    },
    {
      "cell_type": "code",
      "source": [
        "# (5) Write a code to replace the word \"apple\" with \"orange\" in the string \"I\n",
        "# like apple\".\n",
        "\n",
        "str = \"I like apple\"\n",
        "new_str = str.replace(\"apple\", \"orange\")\n",
        "print(new_str)"
      ],
      "metadata": {
        "colab": {
          "base_uri": "https://localhost:8080/"
        },
        "id": "_jgDdY0Ke9wI",
        "outputId": "d07412d2-2955-482e-f8de-8679e5baf8e1"
      },
      "execution_count": null,
      "outputs": [
        {
          "output_type": "stream",
          "name": "stdout",
          "text": [
            "I like orange\n"
          ]
        }
      ]
    },
    {
      "cell_type": "code",
      "source": [
        "# (6) Write a code to create a list with numbers 1 to 5 and print it.\n",
        "\n",
        "num = [10, 20, 30, 40, 50]\n",
        "print(num)"
      ],
      "metadata": {
        "colab": {
          "base_uri": "https://localhost:8080/"
        },
        "id": "svVguHGlfZWp",
        "outputId": "42810bac-7e87-43e3-bd49-48d776e7f023"
      },
      "execution_count": null,
      "outputs": [
        {
          "output_type": "stream",
          "name": "stdout",
          "text": [
            "[10, 20, 30, 40, 50]\n"
          ]
        }
      ]
    },
    {
      "cell_type": "code",
      "source": [
        "# (7) Write a code to append the number 10 to the list [1, 2, 3, 4].\n",
        "\n",
        "my_list = [1, 2, 3, 4]\n",
        "my_list.append(10)  # Adds 10 to the end of the list\n",
        "print(my_list)"
      ],
      "metadata": {
        "colab": {
          "base_uri": "https://localhost:8080/"
        },
        "id": "R1o3vmhBf1A3",
        "outputId": "484b346f-0fa8-41d9-d34b-660c326b1558"
      },
      "execution_count": null,
      "outputs": [
        {
          "output_type": "stream",
          "name": "stdout",
          "text": [
            "[1, 2, 3, 4, 10]\n"
          ]
        }
      ]
    },
    {
      "cell_type": "code",
      "source": [
        "# (8) Write a code to remove the number 3 from the list [1, 2, 3, 4, 5].\n",
        "\n",
        "my_list = [1, 2, 3, 4, 5]\n",
        "my_list.remove(3)  # Removes the first occurrence of 3\n",
        "print(my_list)"
      ],
      "metadata": {
        "colab": {
          "base_uri": "https://localhost:8080/"
        },
        "id": "UzkFPy7Tf_75",
        "outputId": "5676b0ab-fa4b-4fd1-b39b-4b04df82f5b6"
      },
      "execution_count": null,
      "outputs": [
        {
          "output_type": "stream",
          "name": "stdout",
          "text": [
            "[1, 2, 4, 5]\n"
          ]
        }
      ]
    },
    {
      "cell_type": "code",
      "source": [
        "# (9) Write a code to access the second element in the list ['a', 'b', 'c', 'd']\n",
        "\n",
        "my_list = ['a', 'b', 'c', 'd']\n",
        "sec_ele = my_list[1]  # Index 1 refers to the second element\n",
        "print(sec_ele)"
      ],
      "metadata": {
        "colab": {
          "base_uri": "https://localhost:8080/"
        },
        "id": "8sUTtO5FgJ_r",
        "outputId": "c7f9d486-3bc9-4c6f-de1a-1fbd9b0c0b5b"
      },
      "execution_count": null,
      "outputs": [
        {
          "output_type": "stream",
          "name": "stdout",
          "text": [
            "b\n"
          ]
        }
      ]
    },
    {
      "cell_type": "code",
      "source": [
        "# (10) Write a code to reverse the list [10, 20, 30, 40, 50].\n",
        "\n",
        "my_list = [10, 20, 30, 40, 50]\n",
        "my_list.reverse()  # Reverses the list in-place\n",
        "print(my_list)"
      ],
      "metadata": {
        "colab": {
          "base_uri": "https://localhost:8080/"
        },
        "id": "GDbg9Gv2gfoq",
        "outputId": "aa47ae76-0b26-46b4-afa5-54867cd644d6"
      },
      "execution_count": null,
      "outputs": [
        {
          "output_type": "stream",
          "name": "stdout",
          "text": [
            "[50, 40, 30, 20, 10]\n"
          ]
        }
      ]
    },
    {
      "cell_type": "code",
      "source": [
        "# (11) Write a code to create a tuple with the elements 100, 200, 300 and print\n",
        "# it.\n",
        "\n",
        "my_tuple = (100, 200, 300)  # Parentheses define a tuple\n",
        "print(my_tuple)"
      ],
      "metadata": {
        "colab": {
          "base_uri": "https://localhost:8080/"
        },
        "id": "8dJmXqUOgrRr",
        "outputId": "52f2484b-f738-4d74-9c3e-1005ca97723d"
      },
      "execution_count": null,
      "outputs": [
        {
          "output_type": "stream",
          "name": "stdout",
          "text": [
            "(100, 200, 300)\n"
          ]
        }
      ]
    },
    {
      "cell_type": "code",
      "source": [
        "# (12) Write a code to access the second-to-last element of the tuple ('red',\n",
        "# 'green', 'blue', 'yellow').\n",
        "\n",
        "color = ('red', 'green', 'blue', 'yellow')\n",
        "second_last = color[-2]  # -2 refers to the second-to-last element\n",
        "print(second_last)"
      ],
      "metadata": {
        "colab": {
          "base_uri": "https://localhost:8080/"
        },
        "id": "eqrG970cg3xS",
        "outputId": "7afc7ebb-8e67-4199-963a-7ddd85ca8fef"
      },
      "execution_count": null,
      "outputs": [
        {
          "output_type": "stream",
          "name": "stdout",
          "text": [
            "blue\n"
          ]
        }
      ]
    },
    {
      "cell_type": "code",
      "source": [
        "# (13) Write a code to find the minimum number in the tuple (10, 20, 5, 15).\n",
        "\n",
        "num = (10, 20, 5, 15)\n",
        "min_num = min(num)  # Finds the smallest element\n",
        "print(\"The minimum number is:\", min_num)"
      ],
      "metadata": {
        "colab": {
          "base_uri": "https://localhost:8080/"
        },
        "id": "lCgbQoHEhLpb",
        "outputId": "870d9958-cad1-423c-a7dc-bff2b72eb77d"
      },
      "execution_count": null,
      "outputs": [
        {
          "output_type": "stream",
          "name": "stdout",
          "text": [
            "The minimum number is: 5\n"
          ]
        }
      ]
    },
    {
      "cell_type": "code",
      "source": [
        "# (14) Write a code to find the index of the element \"cat\" in the tuple ('dog',\n",
        "# 'cat', 'rabbit').\n",
        "\n",
        "animals = ('dog', 'cat', 'rabbit')\n",
        "index = animals.index('cat')  # Returns the index of 'cat'\n",
        "print(\"Index of 'cat':\", index)"
      ],
      "metadata": {
        "colab": {
          "base_uri": "https://localhost:8080/"
        },
        "id": "flN_UJQkhdaT",
        "outputId": "07422415-6a59-4bad-e137-80c59acfd70f"
      },
      "execution_count": null,
      "outputs": [
        {
          "output_type": "stream",
          "name": "stdout",
          "text": [
            "Index of 'cat': 1\n"
          ]
        }
      ]
    },
    {
      "cell_type": "code",
      "source": [
        "# (15) Write a code to create a tuple containing three different fruits and\n",
        "# check if \"kiwi\" is in it.\n",
        "\n",
        "fruits = ('apple', 'banana', 'orange')\n",
        "\n",
        "if 'kiwi' in fruits:\n",
        "    print(\"Yes, 'kiwi' is in the tuple!\")\n",
        "else:\n",
        "    print(\"No, 'kiwi' is not in the tuple.\")"
      ],
      "metadata": {
        "colab": {
          "base_uri": "https://localhost:8080/"
        },
        "id": "vbDOCy25hxCM",
        "outputId": "c1b44c29-f77c-41ba-b9b9-3b9db01e3a58"
      },
      "execution_count": null,
      "outputs": [
        {
          "output_type": "stream",
          "name": "stdout",
          "text": [
            "No, 'kiwi' is not in the tuple.\n"
          ]
        }
      ]
    },
    {
      "cell_type": "code",
      "source": [
        "# (16) Write a code to create a set with the elements 'a', 'b', 'c' and print\n",
        "# it.\n",
        "\n",
        "my_set = {'a', 'b', 'c'}\n",
        "print(my_set)"
      ],
      "metadata": {
        "colab": {
          "base_uri": "https://localhost:8080/"
        },
        "id": "Y_HrfMvMiElO",
        "outputId": "c1f9f21d-0ff5-4bcd-b464-0838e568daa2"
      },
      "execution_count": null,
      "outputs": [
        {
          "output_type": "stream",
          "name": "stdout",
          "text": [
            "{'b', 'a', 'c'}\n"
          ]
        }
      ]
    },
    {
      "cell_type": "code",
      "source": [
        "# (17)  Write a code to clear all elements from the set {1, 2, 3, 4, 5}.\n",
        "\n",
        "my_set = {1, 2, 3, 4, 5}\n",
        "my_set.clear()\n",
        "print(my_set)"
      ],
      "metadata": {
        "colab": {
          "base_uri": "https://localhost:8080/"
        },
        "id": "LRQBHR1UiUvU",
        "outputId": "c79ca5e4-ba49-4cc0-f671-b18a9c3edeb6"
      },
      "execution_count": null,
      "outputs": [
        {
          "output_type": "stream",
          "name": "stdout",
          "text": [
            "set()\n"
          ]
        }
      ]
    },
    {
      "cell_type": "code",
      "source": [
        "# (18)  Write a code to remove the element 4 from the set {1, 2, 3, 4}.\n",
        "\n",
        "my_set = {1, 2, 3, 4}\n",
        "my_set.remove(4)\n",
        "print(my_set)"
      ],
      "metadata": {
        "colab": {
          "base_uri": "https://localhost:8080/"
        },
        "id": "4CW1HP_Oin4F",
        "outputId": "997247bf-dcaf-4de5-88f6-8857d43a110a"
      },
      "execution_count": null,
      "outputs": [
        {
          "output_type": "stream",
          "name": "stdout",
          "text": [
            "{1, 2, 3}\n"
          ]
        }
      ]
    },
    {
      "cell_type": "code",
      "source": [
        "# (19) Write a code to find the union of two sets {1, 2, 3} and {3, 4, 5}.\n",
        "\n",
        "set_a = {1, 2, 3}\n",
        "set_b = {3, 4, 5}\n",
        "union_set = set_a.union(set_b)  # Combines both sets, removes duplicates\n",
        "print(union_set)"
      ],
      "metadata": {
        "colab": {
          "base_uri": "https://localhost:8080/"
        },
        "id": "e3WW_fmiiy9V",
        "outputId": "dad40996-63aa-4866-cac6-902e80b8d622"
      },
      "execution_count": null,
      "outputs": [
        {
          "output_type": "stream",
          "name": "stdout",
          "text": [
            "{1, 2, 3, 4, 5}\n"
          ]
        }
      ]
    },
    {
      "cell_type": "code",
      "source": [
        "# (20) Write a code to find the intersection of two sets {1, 2, 3} and\n",
        "# {2, 3, 4}.\n",
        "\n",
        "set_a = {1, 2, 3}\n",
        "set_b = {2, 3, 4}\n",
        "intersection_set = set_a.intersection(set_b)  # Finds common elements\n",
        "print(intersection_set)"
      ],
      "metadata": {
        "colab": {
          "base_uri": "https://localhost:8080/"
        },
        "id": "Tn45zItYjCDN",
        "outputId": "55548e67-185f-4f6e-f47b-f90f4144aec7"
      },
      "execution_count": null,
      "outputs": [
        {
          "output_type": "stream",
          "name": "stdout",
          "text": [
            "{2, 3}\n"
          ]
        }
      ]
    },
    {
      "cell_type": "code",
      "source": [
        "# (21) Write a code to create a dictionary with the keys \"name\", \"age\", and\n",
        "# \"city\", and print it.\n",
        "\n",
        "person = {\n",
        "    \"name\": \"Anoop\",\n",
        "    \"age\": 59,\n",
        "    \"city\": \"Muzaffarpur\"\n",
        "}\n",
        "print(person)"
      ],
      "metadata": {
        "colab": {
          "base_uri": "https://localhost:8080/"
        },
        "id": "9TY6WhS-jU2G",
        "outputId": "abbc7ca4-38a6-4a3f-b07a-fa19c7390d9c"
      },
      "execution_count": null,
      "outputs": [
        {
          "output_type": "stream",
          "name": "stdout",
          "text": [
            "{'name': 'Anoop', 'age': 59, 'city': 'Muzaffarpur'}\n"
          ]
        }
      ]
    },
    {
      "cell_type": "code",
      "source": [
        "# (22) Write a code to add a new key-value pair \"country\": \"USA\" to the\n",
        "# dictionary {'name': 'John', 'age': 25}.\n",
        "\n",
        "person = {'name': 'John', 'age': 25}\n",
        "person['country'] = 'USA'  # Adds the new key-value pair\n",
        "print(person)"
      ],
      "metadata": {
        "colab": {
          "base_uri": "https://localhost:8080/"
        },
        "id": "c9vspSNKjlon",
        "outputId": "bd1ba798-7cd0-415c-be7c-f3399b27a826"
      },
      "execution_count": null,
      "outputs": [
        {
          "output_type": "stream",
          "name": "stdout",
          "text": [
            "{'name': 'John', 'age': 25, 'country': 'USA'}\n"
          ]
        }
      ]
    },
    {
      "cell_type": "code",
      "source": [
        "# (23) Write a code to access the value associated with the key \"name\" in the\n",
        "# dictionary {'name': 'Alice', 'age': 30}.\n",
        "\n",
        "person = {'name': 'Alice', 'age': 30}\n",
        "name_value = person['name']\n",
        "print(name_value)"
      ],
      "metadata": {
        "colab": {
          "base_uri": "https://localhost:8080/"
        },
        "id": "RjyknwBjj9C5",
        "outputId": "33fa07f4-d6d4-4f38-e23d-1dfa588dae84"
      },
      "execution_count": null,
      "outputs": [
        {
          "output_type": "stream",
          "name": "stdout",
          "text": [
            "Alice\n"
          ]
        }
      ]
    },
    {
      "cell_type": "code",
      "source": [
        "# (24) Write a code to remove the key \"age\" from the dictionary\n",
        "# {'name': 'Bob', 'age': 22, 'city': 'New York'}.\n",
        "\n",
        "person = {'name': 'Bob', 'age': 22, 'city': 'New York'}\n",
        "del person['age']\n",
        "print(person)"
      ],
      "metadata": {
        "colab": {
          "base_uri": "https://localhost:8080/"
        },
        "id": "sZddPGM0kMwX",
        "outputId": "f632b5e5-212a-47c4-8aac-88ac2628965b"
      },
      "execution_count": null,
      "outputs": [
        {
          "output_type": "stream",
          "name": "stdout",
          "text": [
            "{'name': 'Bob', 'city': 'New York'}\n"
          ]
        }
      ]
    },
    {
      "cell_type": "code",
      "source": [
        "# (25) Write a code to check if the key \"city\" exists in the dictionary\n",
        "# {'name': 'Alice', 'city': 'Paris'}.\n",
        "\n",
        "person = {'name': 'Alice', 'city': 'Paris'}\n",
        "if 'city' in person:\n",
        "    print(\"Key 'city' exists!\")\n",
        "else:\n",
        "    print(\"Key 'city' does not exist.\")"
      ],
      "metadata": {
        "colab": {
          "base_uri": "https://localhost:8080/"
        },
        "id": "LXdxzRrok6Vw",
        "outputId": "e99050d1-2565-4020-9f6b-173cbd083978"
      },
      "execution_count": null,
      "outputs": [
        {
          "output_type": "stream",
          "name": "stdout",
          "text": [
            "Key 'city' exists!\n"
          ]
        }
      ]
    },
    {
      "cell_type": "code",
      "source": [
        "# (26) Write a code to create a list, a tuple, and a dictionary, and print them\n",
        "# all.\n",
        "\n",
        "# Create a list\n",
        "my_list = [10, 20, 30, 40]\n",
        "\n",
        "# Create a tuple\n",
        "my_tuple = ('apple', 'banana', 'cherry')\n",
        "\n",
        "# Create a dictionary\n",
        "my_dict = {'name': 'Anoop', 'age': 59, 'city': 'Muzaffarpur'}\n",
        "\n",
        "# Print all three\n",
        "print(\"List:\", my_list)\n",
        "print(\"Tuple:\", my_tuple)\n",
        "print(\"Dictionary:\", my_dict)"
      ],
      "metadata": {
        "colab": {
          "base_uri": "https://localhost:8080/"
        },
        "id": "C2SZzQDFluIh",
        "outputId": "88a736f2-9fd6-4a53-c238-3334cf0370ba"
      },
      "execution_count": null,
      "outputs": [
        {
          "output_type": "stream",
          "name": "stdout",
          "text": [
            "List: [10, 20, 30, 40]\n",
            "Tuple: ('apple', 'banana', 'cherry')\n",
            "Dictionary: {'name': 'Anoop', 'age': 59, 'city': 'Muzaffarpur'}\n"
          ]
        }
      ]
    },
    {
      "cell_type": "code",
      "source": [
        "# (27) Write a code to create a list of 5 random numbers between 1 and 100,\n",
        "# sort it in ascending order, and print the result.(replaced)\n",
        "\n",
        "import random\n",
        "\n",
        "# Generate 5 random numbers between 1 and 100\n",
        "random_num = [random.randint(1, 100) for _ in range(5)]\n",
        "\n",
        "# Sort the list in ascending order\n",
        "random_num.sort()\n",
        "\n",
        "# Print the result\n",
        "print(\"Sorted random numbers:\", random_num)"
      ],
      "metadata": {
        "colab": {
          "base_uri": "https://localhost:8080/"
        },
        "id": "kAr59emCmFVb",
        "outputId": "a955172b-8269-46f2-a416-51cbc3c5c27f"
      },
      "execution_count": null,
      "outputs": [
        {
          "output_type": "stream",
          "name": "stdout",
          "text": [
            "Sorted random numbers: [1, 42, 43, 44, 95]\n"
          ]
        }
      ]
    },
    {
      "cell_type": "code",
      "source": [
        "# (28) Write a code to create a list with strings and print the element at the\n",
        "# third index.\n",
        "\n",
        "my_list = [\"apple\", \"banana\", \"cherry\", \"date\", \"elderberry\"]\n",
        "\n",
        "# Print the element at the third index\n",
        "print(\"The element at the third index is:\", my_list[3])"
      ],
      "metadata": {
        "colab": {
          "base_uri": "https://localhost:8080/"
        },
        "id": "ErdmNrRsmfKr",
        "outputId": "b66ed50f-ba24-4010-bccd-cc17e478321f"
      },
      "execution_count": null,
      "outputs": [
        {
          "output_type": "stream",
          "name": "stdout",
          "text": [
            "The element at the third index is: date\n"
          ]
        }
      ]
    },
    {
      "cell_type": "code",
      "source": [
        "# (29)  Write a code to combine two dictionaries into one and print the result.\n",
        "\n",
        "dict1 = {'a': 1, 'b': 2}\n",
        "dict2 = {'c': 3, 'd': 4}\n",
        "\n",
        "combined_dict = dict1.copy()  # Create a copy of dict1 to preserve the original\n",
        "combined_dict.update(dict2)   # Update with dict2's key-value pairs\n",
        "\n",
        "print(\"Combined dictionary (using update()):\", combined_dict)"
      ],
      "metadata": {
        "colab": {
          "base_uri": "https://localhost:8080/"
        },
        "id": "R8kdB6vinKTO",
        "outputId": "b0adc3ab-7053-47bc-ae65-e9d45e5be91d"
      },
      "execution_count": null,
      "outputs": [
        {
          "output_type": "stream",
          "name": "stdout",
          "text": [
            "Combined dictionary (using update()): {'a': 1, 'b': 2, 'c': 3, 'd': 4}\n"
          ]
        }
      ]
    },
    {
      "cell_type": "code",
      "source": [
        "# (30) Write a code to convert a list of strings into a set.\n",
        "\n",
        "# Original list of strings\n",
        "string_list = [\"apple\", \"banana\", \"cherry\", \"apple\", \"banana\"]\n",
        "\n",
        "string_set = set(string_list)\n",
        "\n",
        "# Print the results\n",
        "print(\"Original list:\", string_list)\n",
        "print(\"Converted set:\", string_set)"
      ],
      "metadata": {
        "colab": {
          "base_uri": "https://localhost:8080/"
        },
        "id": "qOYN37QpnrsG",
        "outputId": "b640d454-3fab-4662-93d3-5f6021dcc968"
      },
      "execution_count": null,
      "outputs": [
        {
          "output_type": "stream",
          "name": "stdout",
          "text": [
            "Original list: ['apple', 'banana', 'cherry', 'apple', 'banana']\n",
            "Converted set: {'apple', 'banana', 'cherry'}\n"
          ]
        }
      ]
    }
  ]
}
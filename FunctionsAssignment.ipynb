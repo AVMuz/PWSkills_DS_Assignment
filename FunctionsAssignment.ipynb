{
  "nbformat": 4,
  "nbformat_minor": 0,
  "metadata": {
    "colab": {
      "provenance": []
    },
    "kernelspec": {
      "name": "python3",
      "display_name": "Python 3"
    },
    "language_info": {
      "name": "python"
    }
  },
  "cells": [
    {
      "cell_type": "markdown",
      "source": [
        "# Functions Assignment\n",
        "## Data Science with Gen AI\n",
        "\n",
        "Q. (1) What is the difference between a function and a method in Python?\n",
        "\n",
        "**Ans:-**\n",
        "In Python, **functions** and **methods** are both blocks of reusable code, but they differ in their definition, usage, and context.\n",
        "\n",
        "Method is a term that typically used in Object-oriented context (like in Java)\n",
        "\n",
        "- Function is defined independentaly, while method is defined inside a class.\n",
        "- Functions can be called independently as it is not associated with any object, while method will always be called with its associated object.\n",
        "\n",
        "Example:\n",
        "\n",
        "**Function**\n",
        "\n",
        "def greet(name):\n",
        "\n",
        "> return f\"Hello, {name}!\"\n",
        "\n",
        "greet(\"Anoop\")\n",
        "\n",
        "**Method**\n",
        "\n",
        "class Greeter:\n",
        "\n",
        "> def greet(self, name):\n",
        "\n",
        ">> return f\"Hello, {name}!\"\n",
        "\n",
        "obj = Greeter()\n",
        "\n",
        "obj.greet(\"Anoop\")\n",
        "\n",
        "Q. (2) Explain the concept of function arguments and parameters in Python.\n",
        "\n",
        "**Ans:-**\n",
        "\n",
        "**Function Argument**\n",
        "- Arguments are the values that are passed to the function when it is called.\n",
        "- They replace the parameters during execution.\n",
        "\n",
        "**Function Parameters**\n",
        "- Parameters are the variables writtent inside the parentheses in the function definition.\n",
        "- They act as placeholders for the values that the function will receive when called.\n",
        "\n",
        "**Example**\n",
        "\n",
        "def greet(name, message):  # `name` and `message` are parameters\n",
        "\n",
        "> print(f\"{message}, {name}!\")\n",
        "\n",
        "greet(\"Anoop\", \"Hello\")  # `\"Anoop\"` and `\"Hello\"` are arguments\n",
        "\n",
        "Q. (3) What are the different ways to define and call a function in Python?\n",
        "\n",
        "**Ans:-**\n",
        "\n",
        "**There are different ways of defining a function.**\n",
        "- No parameters\n",
        "\n",
        "def say_hello():\n",
        "\n",
        ">  print(\"Hello, World!\")\n",
        "\n",
        "- With parameters\n",
        "\n",
        "def add(a, b):\n",
        "\n",
        "> return a + b\n",
        "\n",
        "- Default parameters\n",
        "\n",
        "def greet(name=\"Guest\"):\n",
        "\n",
        "> print(f\"Hello, {name}!\")\n",
        "\n",
        "- Variable-Length Arguments (*args)\n",
        "\n",
        "def sum_all(*args):\n",
        "\n",
        "> return sum(args)\n",
        "\n",
        "-  Keyword Arguments (**kwargs)\n",
        "\n",
        "def print_details(**kwargs):\n",
        "\n",
        "> for key, value in kwargs.items():\n",
        "\n",
        ">> print(f\"{key}: {value}\")\n",
        "\n",
        "- Lambda (Anonymous) Functions\n",
        "\n",
        "square = lambda x: x ** 2\n",
        "\n",
        "**There are different ways of calling a function.**\n",
        "- Basic call\n",
        "\n",
        "result = function_name(arguments)\n",
        "\n",
        "- Positional Arguments (Order Matters)\n",
        "\n",
        "def add(a, b):\n",
        "> return a + b\n",
        "\n",
        "result = add(10, 5)  # 10 → a, 5 → b → Output: 15\n",
        "\n",
        "- Keyword Arguments (Order Doesn’t Matter)\n",
        "\n",
        "result = add(b=5, a=10)  # Same as add(10, 5)\n",
        "\n",
        "- Mixing Positional & Keyword Arguments (Positional arguments must come before keyword arguments.)\n",
        "\n",
        "result = subtract(10, b=5)  # Valid\n",
        ">#result = subtract(a=10, 5)  # Invalid (SyntaxError)\n",
        "\n",
        "- Using Default Parameters\n",
        "\n",
        "greet()          # Uses default → \"Hello, Guest!\"<br>\n",
        "greet(\"Anoop\")     # Overrides default → \"Hello, Anoop!\"\n",
        "\n",
        "- Passing *args (Unpacking Iterables)\n",
        "\n",
        "numbers = [3, 5]<br>\n",
        "result = add(*numbers)  # Equivalent to add(3, 5) → 8\n",
        "\n",
        "- Passing **kwargs (Unpacking Dictionaries)\n",
        "\n",
        "details = {\"a\": 10, \"b\": 5}<br>\n",
        "result = subtract(**details)  # Equivalent to subtract(a=10, b=5) → 5\n",
        "\n",
        "- Calling Lambda Functions\n",
        "\n",
        "square = lambda x: x ** 2<br>\n",
        "print(square(4))  # Output: 16\n",
        "\n",
        "Q. (4) What is the purpose of the \"return\" statement in a Python function?\n",
        "\n",
        "**Ans:-**\n",
        "The return statement in a Python function has two key purposes.\n",
        "- It terminates the function\n",
        "- Sends some value back to the calling function\n",
        "\n",
        "def add(a, b):<br>\n",
        "> return a + b  # Exits here and returns the sum<br>\n",
        "> print(\"This won't execute\")  # Skipped\n",
        "\n",
        "result = add(3, 5)  # result = 8\n",
        "\n",
        "It can return multiple values as Tuple. If no return statement is written in the function, it returns *None*.\n",
        "\n",
        "Q. (5) What are iterators in Python and how do they differ from iterables?\n",
        "\n",
        "**Ans:-**\n",
        "\n",
        "**Iterables**\n",
        "-An object that can be looped over and over (e.g., lists, tuples, strings, dictionaries, sets).\n",
        "- It implements the __iter__() method (or __getitem__() for backward compatibility), which returns an iterator.\n",
        "\n",
        "my_list = [1, 2, 3]       # List (iterable)\n",
        "\n",
        "**Iterators**\n",
        "- An object that represents a stream of data.\n",
        "- Implements __iter__() (returns itself) and __next__() (returns the next item or raises StopIteration when exhausted).\n",
        "\n",
        "my_iter = iter([1, 2, 3])  # Converts list to iterator\n",
        "\n",
        "print(next(my_iter))  # 1<br>\n",
        "print(next(my_iter))  # 2<br>\n",
        "print(next(my_iter))  # 3 <br>\n",
        "print(next(my_iter))  # Raises StopIteration\n",
        "\n",
        "Q. (6) Explain the concept of generators in Python and how they are defined.\n",
        "\n",
        "**Ans:-**<br>Generators are a special type of iterator that allow us to generate values easily instead of storing them all in memory at once. They are memory-efficient and ideal for handling large collection of data.\n",
        "\n",
        "- Generators yield values one at a time using the yield keyword.\n",
        "- Unlike regular functions that use *return* (which exits the function), generators pause execution at *yield* and resume where they left off when next called.\n",
        "- They automatically implement the iterator methods like (__iter__() and __next__()), so the program can loop over them.\n",
        "\n",
        "def count_up_to(max_num):<br>\n",
        "> num = 1 <br>\n",
        "> while num <= max_num:\n",
        ">> yield num  # Pauses here and returns num <br>\n",
        "        num += 1\n",
        "\n",
        "counter = count_up_to(3) <br>\n",
        "print(next(counter))  # 1 <br>\n",
        "print(next(counter))  # 2 <br>\n",
        "print(next(counter))  # 3 <br>\n",
        ">#print(next(counter))  # Raises StopIteration <br>\n",
        "\n",
        "Q. (7) What are the advantages of using generators over regular functions?\n",
        "\n",
        "**Ans:-**<br>\n",
        "Generators provide some benefits compared to regular functions in some cases, particularly when dealing with large data collection, streams of data, or memory-intensive operations.\n",
        "- It is memory efficient\n",
        "- On-Demand Computation (In regular functions, all computation is done at one go, while in Generators, value is computed as and when required.)\n",
        "- Generators avoid unnecessary computations.\n",
        "- Generators can be chained to create efficient data pipelines.\n",
        "- Generators remember their state between *yield* statements.\n",
        "\n",
        "Q. (8) What is a lambda functions in Python and when is it typically used?\n",
        "\n",
        "**Ans:-**<br>A lambda function (or anonymous function) is a small, single-expression function defined using the *lambda* keyword. Unlike regular functions (defined with *def*), lambdas are unnamed and are typically used for short, simple operations.\n",
        "\n",
        "square = lambda x: x ** 2<br>\n",
        "print(square(5))  # Output: 25\n",
        "\n",
        "Q. (9) Explain the purpose and use of \"map()\" function in Python.\n",
        "\n",
        "**Ans:-**<br>The map() function is a built-in Python tool for applying a given function to every item in an iterable (like a list, tuple, or string) and returning an iterator that yields the transformed results. It’s a key tool for functional programming in Python, enabling the programmer to write compact code for efficient data processing without loops.\n",
        "\n",
        "str_numbers = [\"1\", \"2\", \"3\"]<br>\n",
        "int_numbers = map(int, str_numbers)  # Applies `int()` to each item<br>\n",
        "print(list(int_numbers))  # Output: [1, 2, 3]\n",
        "\n",
        "Q. (10) What is the difference between \"map()\", \"reduce()\", and \"filter()\" functions in Python.\n",
        "\n",
        "**Ans:-**<br>These three functions are core tools in Python's functional programming paradigm, but they serve distinct purposes:\n",
        "\n",
        "map() -> Transforms each item in an iterable<br>\n",
        "filter() -> Selects items that meet a condition\t<br>\n",
        "reduce() -> Aggregates items into a single value\t<br>\n",
        "\n",
        "**map()**<br>\n",
        "Applies a function to every item in an iterable and returns a new iterator with the transformed values.<br><br>\n",
        "numbers = [1, 2, 3]<br>\n",
        "squared = map(lambda x: x ** 2, numbers)<br>\n",
        "print(list(squared))  # Output: [1, 4, 9]\n",
        "\n",
        "**filter()**<br>\n",
        "Selects items from an iterable only if they satisfy a condition (specified by the function).<br><br>\n",
        "numbers = [1, 2, 3, 4, 5]<br>\n",
        "evens = filter(lambda x: x % 2 == 0, numbers)<br>\n",
        "print(list(evens))  # Output: [2, 4]\n",
        "\n",
        "**reduce()**<br>\n",
        "Combines all items in an iterable into a single value by repeatedly applying a function.<br><br>\n",
        "from functools import reduce<br>\n",
        "numbers = [10, 20, 30, 40]<br>\n",
        "sum_result = reduce(lambda x, y: x + y, numbers)<br>\n",
        "print(sum_result)  # Output: 100 (10+20+30+40)\n",
        "\n",
        "Q. (11) Using pen & paper write the internal mechanism for sum operation using reduce function on this given list: [47, 11, 42, 13]\n",
        "\n"
      ],
      "metadata": {
        "id": "SUkcu_khA2hS"
      }
    },
    {
      "cell_type": "code",
      "source": [
        "# Q(1) Write a Python function that takes a list of numbers as input and returns the sum of all even numbers in the list.\n",
        "\n",
        "def sum_even(num):\n",
        "  sum = 0\n",
        "  for i in num:\n",
        "    if i%2 == 0:\n",
        "      sum = sum+i\n",
        "  return sum\n",
        "\n",
        "lst1 = [1,2,3,4,5,6,7,8,9]\n",
        "result = sum_even(lst1)\n",
        "print(result)"
      ],
      "metadata": {
        "colab": {
          "base_uri": "https://localhost:8080/"
        },
        "id": "UGGN_LE_Ml-b",
        "outputId": "38d76243-7d2c-45e3-ee2d-6403776cffb0"
      },
      "execution_count": null,
      "outputs": [
        {
          "output_type": "stream",
          "name": "stdout",
          "text": [
            "20\n"
          ]
        }
      ]
    },
    {
      "cell_type": "code",
      "source": [
        "# Q(2) Create a Python function that accepts a string and returns the reverse of\n",
        "# that string.\n",
        "\n",
        "def reverse_str(str):\n",
        "  return str[::-1]\n",
        "\n",
        "s = \"Anoop Verma\"\n",
        "result = reverse_str(s)\n",
        "print(result)\n"
      ],
      "metadata": {
        "colab": {
          "base_uri": "https://localhost:8080/"
        },
        "id": "8_xl6skAOPtb",
        "outputId": "4617b845-40a5-451a-d739-beeb34a2564b"
      },
      "execution_count": null,
      "outputs": [
        {
          "output_type": "stream",
          "name": "stdout",
          "text": [
            "amreV poonA\n"
          ]
        }
      ]
    },
    {
      "cell_type": "code",
      "source": [
        "# Q(3) Implement a Python function that takes a list of integers and returns a\n",
        "# new list containing the squares of each number.\n",
        "\n",
        "def sq_num(nums):\n",
        "  squared_num = []\n",
        "  for n in nums:\n",
        "    squared_num.append(n ** 2)\n",
        "  return squared_num\n",
        "\n",
        "lst1 = [1,2,3,4,5,6,7,8,9]\n",
        "result = sq_num(lst1)\n",
        "print(result)"
      ],
      "metadata": {
        "colab": {
          "base_uri": "https://localhost:8080/"
        },
        "id": "ZLmnjA59O_IL",
        "outputId": "35804920-2858-4934-f5b2-2a9d3701b3f7"
      },
      "execution_count": null,
      "outputs": [
        {
          "output_type": "stream",
          "name": "stdout",
          "text": [
            "[1, 4, 9, 16, 25, 36, 49, 64, 81]\n"
          ]
        }
      ]
    },
    {
      "cell_type": "code",
      "source": [
        "# Q(3) - Using map() and lambda()\n",
        "\n",
        "def sq_num(nums):\n",
        "  return list(map(lambda x: x ** 2, nums))\n",
        "\n",
        "lst1 = [10,20,30,40,50,60,70,80,90]\n",
        "result = sq_num(lst1)\n",
        "print(result)"
      ],
      "metadata": {
        "colab": {
          "base_uri": "https://localhost:8080/"
        },
        "id": "LQjhgkeIRSlf",
        "outputId": "2079c209-9197-4106-99eb-8170655fe946"
      },
      "execution_count": null,
      "outputs": [
        {
          "output_type": "stream",
          "name": "stdout",
          "text": [
            "[100, 400, 900, 1600, 2500, 3600, 4900, 6400, 8100]\n"
          ]
        }
      ]
    },
    {
      "cell_type": "code",
      "source": [
        "# Q(4) Write a Python function that checks if a given number is prime or not\n",
        "# from 1 to 200.\n",
        "\n",
        "def is_prime(n):\n",
        "  if n <= 1:\n",
        "    return False\n",
        "  if n == 2:  # 2 is the only even prime\n",
        "    return True\n",
        "  if n % 2 == 0:  # Eliminate even numbers\n",
        "    return False\n",
        "  # Check divisibility up to sqrt(n) (odd numbers only)\n",
        "  for i in range(3, int(n**0.5) + 1, 2):\n",
        "    if n % i == 0:\n",
        "      return False\n",
        "    return True\n",
        "\n",
        "for num in range(1, 201):\n",
        "  if is_prime(num):\n",
        "    print(num, end=',')\n"
      ],
      "metadata": {
        "colab": {
          "base_uri": "https://localhost:8080/"
        },
        "id": "thg0hRNjRvpI",
        "outputId": "4e618809-f5e7-43bd-9f5c-db2b260d068c"
      },
      "execution_count": null,
      "outputs": [
        {
          "output_type": "stream",
          "name": "stdout",
          "text": [
            "2,11,13,17,19,23,25,29,31,35,37,41,43,47,49,53,55,59,61,65,67,71,73,77,79,83,85,89,91,95,97,101,103,107,109,113,115,119,121,125,127,131,133,137,139,143,145,149,151,155,157,161,163,167,169,173,175,179,181,185,187,191,193,197,199,"
          ]
        }
      ]
    },
    {
      "cell_type": "code",
      "source": [
        "# Q(5) Create an iterator class in Python that generates the Fibonacci sequence up to a\n",
        "# specified number of terms.\n",
        "\n",
        "class FibonacciIterator:\n",
        "    def __init__(self, max_terms):\n",
        "        self.max_terms = max_terms\n",
        "        self.current_term = 0\n",
        "        self.a, self.b = 0, 1  # Initialize Fibonacci sequence\n",
        "\n",
        "    def __iter__(self):\n",
        "        return self\n",
        "\n",
        "    def __next__(self):\n",
        "        if self.current_term >= self.max_terms:\n",
        "            raise StopIteration\n",
        "        value = self.a\n",
        "        self.a, self.b = self.b, self.a + self.b  # Update Fibonacci values\n",
        "        self.current_term += 1\n",
        "        return value\n",
        "\n",
        "fib = FibonacciIterator(25)  # Generate first 25 Fibonacci numbers\n",
        "for num in fib:\n",
        "    print(num, end=\" \")\n"
      ],
      "metadata": {
        "colab": {
          "base_uri": "https://localhost:8080/"
        },
        "id": "Hq6u7FdjzLTH",
        "outputId": "6a4e0597-8c93-4b31-87a0-9e91180a4daf"
      },
      "execution_count": 2,
      "outputs": [
        {
          "output_type": "stream",
          "name": "stdout",
          "text": [
            "0 1 1 2 3 5 8 13 21 34 55 89 144 233 377 610 987 1597 2584 4181 6765 10946 17711 28657 46368 "
          ]
        }
      ]
    },
    {
      "cell_type": "code",
      "source": [
        "# Q(6) Write a generator function in Python that yields the powers of 2 up to a\n",
        "# given exponent.\n",
        "\n",
        "def powers_of_2(max):\n",
        "    power = 1  # 2^0 = 1\n",
        "    for _ in range(max + 1):\n",
        "        yield power\n",
        "        power *= 2\n",
        "\n",
        "for exponent, result in enumerate(powers_of_2(10)):\n",
        "    print(f\"2^{exponent} = {result}\")"
      ],
      "metadata": {
        "colab": {
          "base_uri": "https://localhost:8080/"
        },
        "id": "ysvamiuy0cpO",
        "outputId": "fc3784f5-634f-4c31-bfc8-0413d3bfacb3"
      },
      "execution_count": 4,
      "outputs": [
        {
          "output_type": "stream",
          "name": "stdout",
          "text": [
            "2^0 = 1\n",
            "2^1 = 2\n",
            "2^2 = 4\n",
            "2^3 = 8\n",
            "2^4 = 16\n",
            "2^5 = 32\n",
            "2^6 = 64\n",
            "2^7 = 128\n",
            "2^8 = 256\n",
            "2^9 = 512\n",
            "2^10 = 1024\n"
          ]
        }
      ]
    },
    {
      "cell_type": "code",
      "source": [
        "# Q(7) Implement a generator function that reads a file line by line and yields\n",
        "# each line as a string.\n",
        "\n",
        "def read_line(file_path):\n",
        "    with open(file_path, 'r') as file:\n",
        "        for line in file:\n",
        "            yield line.strip()  # Remove trailing newline characters\n",
        "\n",
        "for line in read_line('Example.txt'):\n",
        "    print(line)"
      ],
      "metadata": {
        "colab": {
          "base_uri": "https://localhost:8080/",
          "height": 315
        },
        "id": "MRj_W_IC1Y1O",
        "outputId": "0fbd1e5e-460d-43a4-f87a-c33855c569ec"
      },
      "execution_count": 10,
      "outputs": [
        {
          "output_type": "error",
          "ename": "FileNotFoundError",
          "evalue": "[Errno 2] No such file or directory: 'Example.txt'",
          "traceback": [
            "\u001b[0;31m---------------------------------------------------------------------------\u001b[0m",
            "\u001b[0;31mFileNotFoundError\u001b[0m                         Traceback (most recent call last)",
            "\u001b[0;32m<ipython-input-10-3342040937>\u001b[0m in \u001b[0;36m<cell line: 0>\u001b[0;34m()\u001b[0m\n\u001b[1;32m      7\u001b[0m             \u001b[0;32myield\u001b[0m \u001b[0mline\u001b[0m\u001b[0;34m.\u001b[0m\u001b[0mstrip\u001b[0m\u001b[0;34m(\u001b[0m\u001b[0;34m)\u001b[0m  \u001b[0;31m# Remove trailing newline characters\u001b[0m\u001b[0;34m\u001b[0m\u001b[0;34m\u001b[0m\u001b[0m\n\u001b[1;32m      8\u001b[0m \u001b[0;34m\u001b[0m\u001b[0m\n\u001b[0;32m----> 9\u001b[0;31m \u001b[0;32mfor\u001b[0m \u001b[0mline\u001b[0m \u001b[0;32min\u001b[0m \u001b[0mread_line\u001b[0m\u001b[0;34m(\u001b[0m\u001b[0;34m'Example.txt'\u001b[0m\u001b[0;34m)\u001b[0m\u001b[0;34m:\u001b[0m\u001b[0;34m\u001b[0m\u001b[0;34m\u001b[0m\u001b[0m\n\u001b[0m\u001b[1;32m     10\u001b[0m     \u001b[0mprint\u001b[0m\u001b[0;34m(\u001b[0m\u001b[0mline\u001b[0m\u001b[0;34m)\u001b[0m\u001b[0;34m\u001b[0m\u001b[0;34m\u001b[0m\u001b[0m\n",
            "\u001b[0;32m<ipython-input-10-3342040937>\u001b[0m in \u001b[0;36mread_line\u001b[0;34m(file_path)\u001b[0m\n\u001b[1;32m      3\u001b[0m \u001b[0;34m\u001b[0m\u001b[0m\n\u001b[1;32m      4\u001b[0m \u001b[0;32mdef\u001b[0m \u001b[0mread_line\u001b[0m\u001b[0;34m(\u001b[0m\u001b[0mfile_path\u001b[0m\u001b[0;34m)\u001b[0m\u001b[0;34m:\u001b[0m\u001b[0;34m\u001b[0m\u001b[0;34m\u001b[0m\u001b[0m\n\u001b[0;32m----> 5\u001b[0;31m     \u001b[0;32mwith\u001b[0m \u001b[0mopen\u001b[0m\u001b[0;34m(\u001b[0m\u001b[0mfile_path\u001b[0m\u001b[0;34m,\u001b[0m \u001b[0;34m'r'\u001b[0m\u001b[0;34m)\u001b[0m \u001b[0;32mas\u001b[0m \u001b[0mfile\u001b[0m\u001b[0;34m:\u001b[0m\u001b[0;34m\u001b[0m\u001b[0;34m\u001b[0m\u001b[0m\n\u001b[0m\u001b[1;32m      6\u001b[0m         \u001b[0;32mfor\u001b[0m \u001b[0mline\u001b[0m \u001b[0;32min\u001b[0m \u001b[0mfile\u001b[0m\u001b[0;34m:\u001b[0m\u001b[0;34m\u001b[0m\u001b[0;34m\u001b[0m\u001b[0m\n\u001b[1;32m      7\u001b[0m             \u001b[0;32myield\u001b[0m \u001b[0mline\u001b[0m\u001b[0;34m.\u001b[0m\u001b[0mstrip\u001b[0m\u001b[0;34m(\u001b[0m\u001b[0;34m)\u001b[0m  \u001b[0;31m# Remove trailing newline characters\u001b[0m\u001b[0;34m\u001b[0m\u001b[0;34m\u001b[0m\u001b[0m\n",
            "\u001b[0;31mFileNotFoundError\u001b[0m: [Errno 2] No such file or directory: 'Example.txt'"
          ]
        }
      ]
    },
    {
      "cell_type": "code",
      "source": [
        "# Q(8) Use a lambda function in Python to sort a list of tuples based on the\n",
        "# second element of each tuple.\n",
        "\n",
        "# Original list of tuples\n",
        "data = [('Anoop', 3), ('Ajit', 1), ('Ashok', 2), ('Amitabh', 5), ('Abhishek', 4)]\n",
        "\n",
        "# Sort using lambda function\n",
        "sorted_data = sorted(data, key=lambda x: x[1])\n",
        "\n",
        "print(\"Original data\")\n",
        "print(data)\n",
        "print(\"Sorted data\")\n",
        "print(sorted_data)\n"
      ],
      "metadata": {
        "colab": {
          "base_uri": "https://localhost:8080/"
        },
        "id": "dK1XTohl2Vdk",
        "outputId": "3f143a96-7cf5-4a4c-c159-749a11572ccb"
      },
      "execution_count": 11,
      "outputs": [
        {
          "output_type": "stream",
          "name": "stdout",
          "text": [
            "Original data\n",
            "[('Anoop', 3), ('Ajit', 1), ('Ashok', 2), ('Amitabh', 5), ('Abhishek', 4)]\n",
            "Sorted data\n",
            "[('Ajit', 1), ('Ashok', 2), ('Anoop', 3), ('Abhishek', 4), ('Amitabh', 5)]\n"
          ]
        }
      ]
    },
    {
      "cell_type": "code",
      "source": [
        "# Q(9) Write a Python program that uses `map()` to convert a list of\n",
        "# temperatures from Celsius to Fahrenheit.\n",
        "\n",
        "# List of temperatures in Celsius\n",
        "celsius = [0, 10, 20, 30, 40, 50, 60, 70, 90, 100]\n",
        "\n",
        "# Conversion formula: F = (C × 9/5) + 32\n",
        "fahrenheit = list(map(lambda c: (c * 9/5) + 32, celsius))\n",
        "\n",
        "# Display results\n",
        "print(\"Celsius:\", celsius)\n",
        "print(\"Fahrenheit:\", fahrenheit)"
      ],
      "metadata": {
        "colab": {
          "base_uri": "https://localhost:8080/"
        },
        "id": "h0KfOUqU3IyJ",
        "outputId": "7de1d658-ef0a-4bb1-d700-70057ca71986"
      },
      "execution_count": 12,
      "outputs": [
        {
          "output_type": "stream",
          "name": "stdout",
          "text": [
            "Celsius: [0, 10, 20, 30, 40, 50, 60, 70, 90, 100]\n",
            "Fahrenheit: [32.0, 50.0, 68.0, 86.0, 104.0, 122.0, 140.0, 158.0, 194.0, 212.0]\n"
          ]
        }
      ]
    },
    {
      "cell_type": "code",
      "source": [
        "# Q(10) Create a Python program that uses `filter()` to remove all the vowels\n",
        "# from a given string.\n",
        "\n",
        "def rem_vowels(in_str):\n",
        "    vowels = {'a', 'e', 'i', 'o', 'u', 'A', 'E', 'I', 'O', 'U'}\n",
        "    filtered = filter(lambda char: char not in vowels, in_str)\n",
        "    return ''.join(filtered)\n",
        "\n",
        "text = \"Hello, World! My name is Anoop Verma\"\n",
        "result = rem_vowels(text)\n",
        "print(result)"
      ],
      "metadata": {
        "colab": {
          "base_uri": "https://localhost:8080/"
        },
        "id": "VnDokmjC3non",
        "outputId": "b9b7736f-0416-479d-a308-4269b6f435dd"
      },
      "execution_count": 13,
      "outputs": [
        {
          "output_type": "stream",
          "name": "stdout",
          "text": [
            "Hll, Wrld! My nm s np Vrm\n"
          ]
        }
      ]
    },
    {
      "cell_type": "code",
      "source": [
        "# Q(11) Imagine an accounting routine used in a book shop. It works on a list\n",
        "# with sublists, which look like this:\n",
        "\n",
        "# Write a Python program, which returns a list with 2-tuples. Each tuple consists\n",
        "# of the order number and the product of the price per item and the quantity.\n",
        "# The product should be increased by 10,- € if the value of the order is smaller\n",
        "# than 100,00 €. Write a Python program using lambda and map."
      ],
      "metadata": {
        "id": "BL9gHkNY4QYO"
      },
      "execution_count": null,
      "outputs": []
    }
  ]
}